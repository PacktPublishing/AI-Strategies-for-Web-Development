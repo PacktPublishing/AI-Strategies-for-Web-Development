{
  "nbformat": 4,
  "nbformat_minor": 0,
  "metadata": {
    "colab": {
      "provenance": []
    },
    "kernelspec": {
      "name": "python3",
      "display_name": "Python 3"
    },
    "language_info": {
      "name": "python"
    }
  },
  "cells": [
    {
      "cell_type": "markdown",
      "metadata": {
        "id": "view-in-github"
      },
      "source": [
        "<a href=\"https://colab.research.google.com/github/andersonfurtado/AI4WEBDEV/blob/main/MovieLens_SQLAlchemy_Database_Creation.ipynb.ipynb\" target=\"_parent\"><img src=\"https://colab.research.google.com/assets/colab-badge.svg\" alt=\"Open In Colab\"/></a>"
      ]
    },
    {
      "cell_type": "code",
      "execution_count": null,
      "metadata": {
        "id": "jT5wBITg6FfV"
      },
      "outputs": [],
      "source": [
        "# Install the necessary libraries\n",
        "!pip install sqlalchemy pandas openpyxl\n",
        "\n",
        "# Import the libraries\n",
        "import pandas as pd\n",
        "from sqlalchemy import create_engine, Column, Integer, String, Float\n",
        "from sqlalchemy.ext.declarative import declarative_base\n",
        "from sqlalchemy.orm import sessionmaker\n",
        "import urllib.request\n",
        "import zipfile\n",
        "import os\n",
        "\n",
        "# Download and unzip the MovieLens dataset\n",
        "url = 'https://files.grouplens.org/datasets/movielens/ml-latest-small.zip'\n",
        "urllib.request.urlretrieve(url, 'ml-latest-small.zip')\n",
        "\n",
        "with zipfile.ZipFile('ml-latest-small.zip', 'r') as zip_ref:\n",
        "    zip_ref.extractall()\n",
        "\n",
        "# Full path to the files\n",
        "movies_file = os.path.join('ml-latest-small', 'movies.csv')\n",
        "ratings_file = os.path.join('ml-latest-small', 'ratings.csv')\n",
        "\n",
        "# Load the data\n",
        "movies = pd.read_csv(movies_file)\n",
        "ratings = pd.read_csv(ratings_file)\n",
        "\n",
        "# Define the SQLAlchemy models\n",
        "Base = declarative_base()\n",
        "\n",
        "class Movie(Base):\n",
        "    __tablename__ = 'movies'\n",
        "    movieId = Column(Integer, primary_key=True)\n",
        "    title = Column(String)\n",
        "    genres = Column(String)\n",
        "\n",
        "class Rating(Base):\n",
        "    __tablename__ = 'ratings'\n",
        "    userId = Column(Integer, primary_key=True)\n",
        "    movieId = Column(Integer, primary_key=True)\n",
        "    rating = Column(Float)\n",
        "    timestamp = Column(Integer, primary_key=True)\n",
        "\n",
        "# Create the SQLite database and tables\n",
        "engine = create_engine('sqlite:///movielens.db')\n",
        "Base.metadata.create_all(engine)\n",
        "\n",
        "# Create a session\n",
        "Session = sessionmaker(bind=engine)\n",
        "session = Session()\n",
        "\n",
        "# Insert data into the movie table\n",
        "movies_data = movies.to_dict(orient='records')\n",
        "for data in movies_data:\n",
        "    movie = Movie(**data)\n",
        "    session.add(movie)\n",
        "\n",
        "# Enter data in the evaluation table\n",
        "ratings_data = ratings.to_dict(orient='records')\n",
        "for data in ratings_data:\n",
        "    rating = Rating(**data)\n",
        "    session.add(rating)\n",
        "\n",
        "# Commit session\n",
        "session.commit()\n",
        "\n",
        "# Function to get movie recommendations from the database\n",
        "def get_movie_recommendations_from_db(movie_title, num_recommendations=5):\n",
        "    movie = session.query(Movie).filter_by(title=movie_title).first()\n",
        "    if not movie:\n",
        "        return []\n",
        "\n",
        "    movie_id = movie.movieId\n",
        "    users_who_rated_movie = session.query(Rating.userId).filter_by(movieId=movie_id).distinct().all()\n",
        "    users_who_rated_movie = [u[0] for u in users_who_rated_movie]\n",
        "\n",
        "    other_movie_ids = session.query(Rating.movieId).filter(Rating.userId.in_(users_who_rated_movie)).distinct().all()\n",
        "    other_movie_ids = [m[0] for m in other_movie_ids]\n",
        "\n",
        "    predicted_ratings = []\n",
        "    for movie_id in other_movie_ids:\n",
        "        predicted_rating = algo.predict(uid=0, iid=movie_id).est\n",
        "        predicted_ratings.append((movie_id, predicted_rating))\n",
        "\n",
        "    predicted_ratings.sort(key=lambda x: x[1], reverse=True)\n",
        "    top_n_movies = [movie_id for movie_id, rating in predicted_ratings[:num_recommendations]]\n",
        "    recommended_movies = session.query(Movie.title).filter(Movie.movieId.in_(top_n_movies)).all()\n",
        "    return [m[0] for m in recommended_movies]\n",
        "\n",
        "# Example of use\n",
        "print(get_movie_recommendations_from_db('Toy Story (1995)'))\n"
      ]
    }
  ]
}