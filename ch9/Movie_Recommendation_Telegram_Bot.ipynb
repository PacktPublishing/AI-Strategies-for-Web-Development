# Install the necessary libraries
!pip install python-telegram-bot scikit-surprise pandas nest_asyncio textblob

import pandas as pd
from surprise import Dataset, Reader, SVD
from surprise.model_selection import train_test_split
import urllib.request
import zipfile
import os
from telegram import Update
from telegram.ext import Application, CommandHandler, MessageHandler, filters, CallbackContext
import nest_asyncio
from textblob import TextBlob
# Apply the patch to allow the use of asyncio in Jupyter Notebook
nest_asyncio.apply()

# Download and unzip the MovieLens dataset
url = 'https://files.grouplens.org/datasets/movielens/ml-latest-small.zip'
urllib.request.urlretrieve(url, 'ml-latest-small.zip')

with zipfile.ZipFile('ml-latest-small.zip', 'r') as zip_ref:
    zip_ref.extractall()

movies_file = os.path.join('ml-latest-small', 'movies.csv')
ratings_file = os.path.join('ml-latest-small', 'ratings.csv')

# Load the data
movies = pd.read_csv(movies_file)
ratings = pd.read_csv(ratings_file)

# Prepare the data for the Surprise library
reader = Reader(rating_scale=(0.5, 5.0))
data = Dataset.load_from_df(ratings[['userId', 'movieId', 'rating']], reader)

# Split the data into training and test sets
trainset, testset = train_test_split(data, test_size=0.2)

# Train the SVD model
algo = SVD()
algo.fit(trainset)

# Function to recommend movies
def get_movie_recommendations(algo, movie_title, movies, ratings, num_recommendations=5):
    if movie_title not in movies['title'].values:
        return None
    movie_id = movies[movies['title'] == movie_title]['movieId'].values[0]
    users_who_rated_movie = ratings[ratings['movieId'] == movie_id]['userId'].unique()
    other_movie_ids = ratings[ratings['userId'].isin(users_who_rated_movie)]['movieId'].unique()
    predicted_ratings = []
    for movie in other_movie_ids:
        if movie != movie_id:
            predicted_ratings.append((movie, algo.predict(uid=0, iid=movie).est))
    predicted_ratings.sort(key=lambda x: x[1], reverse=True)
    top_n_movies = [movie_id for movie_id, rating in predicted_ratings[:num_recommendations]]
    recommended_movie_titles = movies[movies['movieId'].isin(top_n_movies)]['title'].tolist()
    return recommended_movie_titles

# Function to check if a movie title exists
def check_movie_title(title, session):
    result = session.query(Movie).filter(Movie.title.ilike(f"%{title}%")).all()
    return result

# Function for sentiment analysis
def analyze_sentiment(text):
    blob = TextBlob(text)
    return blob.sentiment

# Function to handle text messages
async def handle_message(update: Update, context: CallbackContext) -> None:
    user_input = update.message.text
    sentiment = analyze_sentiment(user_input)
    await update.message.reply_text(f"Sentiment Analysis: Polarity = {sentiment.polarity}, Subjectivity = {sentiment.subjectivity}")
    await update.message.reply_text('Send me the name of a movie and I will recommend other movies for you.')

    movie_title = user_input
    found_movies = check_movie_title(movie_title, session)
    if found_movies:
        recommendations = get_movie_recommendations_from_db(movie_title)
        if recommendations:
            response = f"Recommendations for '{movie_title}':\n" + "\n".join(recommendations)
        else:
            response = f"No recommendations found for '{movie_title}'."
    else:
        response = f"No movies found with title '{movie_title}'."
    await update.message.reply_text(response)

# Token for your bot (replace with your token)
TOKEN = 'YOUR_TELEGRAM_BOT_TOKEN'

# Function to start the bot
async def start(update: Update, context: CallbackContext) -> None:
    await update.message.reply_text('Welcome to FilmGuideBot! How are you feeling today?')

# Bot configuration
def main():
    application = Application.builder().token(TOKEN).build()
    application.add_handler(CommandHandler("start", start))
    application.add_handler(MessageHandler(filters.TEXT & ~filters.COMMAND, handle_message))
    application.run_polling()

if __name__ == '__main__':
    main()
